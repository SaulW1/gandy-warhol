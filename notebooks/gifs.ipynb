{
 "cells": [
  {
   "cell_type": "markdown",
   "id": "82ab62a4",
   "metadata": {},
   "source": [
    "Notebook to show how to make gifs and how to store checkpoints of the model "
   ]
  },
  {
   "cell_type": "code",
   "execution_count": null,
   "id": "9adede58",
   "metadata": {},
   "outputs": [],
   "source": [
    "#  IMPORTANT THESE ARE NOT IN REQUIREMNETS  #\n",
    "#  IMPORTANT THESE ARE NOT IN REQUIREMNETS  #\n",
    "#  IMPORTANT THESE ARE NOT IN REQUIREMNETS  #\n",
    "\n",
    "import glob\n",
    "import imageio\n",
    "import os\n",
    "from tensorflow.keras.train import Checkpoint"
   ]
  },
  {
   "cell_type": "code",
   "execution_count": null,
   "id": "1a8d3f15",
   "metadata": {},
   "outputs": [],
   "source": [
    "path = 'PATH TO IMG'"
   ]
  },
  {
   "cell_type": "code",
   "execution_count": null,
   "id": "0066c86e",
   "metadata": {},
   "outputs": [],
   "source": [
    "# Display a single image using the epoch number\n",
    "def display_image(epoch_no):\n",
    "    return Image.open(f'{path}-{epoch_no}.png')"
   ]
  },
  {
   "cell_type": "code",
   "execution_count": null,
   "id": "ec7ffff0",
   "metadata": {},
   "outputs": [],
   "source": [
    "anim_file = 'dcgan.gif'\n",
    "\n",
    "with imageio.get_writer(anim_file, mode='I') as writer:\n",
    "    filenames = glob.glob('img_gens/image*.png')\n",
    "    filenames = sorted(filenames)\n",
    "    for filename in filenames:\n",
    "        image = imageio.imread(filename)\n",
    "        writer.append_data(image)\n",
    "    image = imageio.imread(filename)\n",
    "    writer.append_data(image)"
   ]
  },
  {
   "cell_type": "code",
   "execution_count": null,
   "id": "4d143080",
   "metadata": {},
   "outputs": [],
   "source": [
    "checkpoint_dir = './training_checkpoints'\n",
    "checkpoint_prefix = os.path.join(checkpoint_dir, \"ckpt\")\n",
    "checkpoint = Checkpoint(generator_optimizer=generator_optimizer,\n",
    "                                 discriminator_optimizer=discriminator_optimizer,\n",
    "                                 generator=generator,\n",
    "                                 discriminator=discriminator)"
   ]
  }
 ],
 "metadata": {
  "kernelspec": {
   "display_name": "Python 3 (ipykernel)",
   "language": "python",
   "name": "python3"
  },
  "language_info": {
   "codemirror_mode": {
    "name": "ipython",
    "version": 3
   },
   "file_extension": ".py",
   "mimetype": "text/x-python",
   "name": "python",
   "nbconvert_exporter": "python",
   "pygments_lexer": "ipython3",
   "version": "3.8.12"
  },
  "toc": {
   "base_numbering": 1,
   "nav_menu": {},
   "number_sections": true,
   "sideBar": true,
   "skip_h1_title": false,
   "title_cell": "Table of Contents",
   "title_sidebar": "Contents",
   "toc_cell": false,
   "toc_position": {},
   "toc_section_display": true,
   "toc_window_display": false
  }
 },
 "nbformat": 4,
 "nbformat_minor": 5
}
