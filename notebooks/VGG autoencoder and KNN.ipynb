{
  "nbformat": 4,
  "nbformat_minor": 0,
  "metadata": {
    "colab": {
      "name": "VGG autoencoder_abstractex.ipynb",
      "provenance": [],
      "collapsed_sections": []
    },
    "kernelspec": {
      "name": "python3",
      "display_name": "Python 3"
    },
    "language_info": {
      "name": "python"
    },
    "accelerator": "GPU"
  },
  "cells": [
    {
      "cell_type": "code",
      "source": [
        "from google.colab import drive\n",
        "drive.mount('/content/drive')"
      ],
      "metadata": {
        "colab": {
          "base_uri": "https://localhost:8080/"
        },
        "id": "grb6lul_OM96",
        "outputId": "13e62146-a665-406d-d920-74e4ca7d398d"
      },
      "execution_count": null,
      "outputs": [
        {
          "output_type": "stream",
          "name": "stdout",
          "text": [
            "Drive already mounted at /content/drive; to attempt to forcibly remount, call drive.mount(\"/content/drive\", force_remount=True).\n"
          ]
        }
      ]
    },
    {
      "cell_type": "code",
      "execution_count": null,
      "metadata": {
        "id": "Pi64SZLF05TT"
      },
      "outputs": [],
      "source": [
        "import os\n",
        "import numpy as np\n",
        "import tensorflow as tf\n",
        "from sklearn.neighbors import NearestNeighbors\n",
        "from multiprocessing import Pool\n",
        "from skimage.transform import resize\n",
        "import os\n",
        "import skimage.io\n",
        "from multiprocessing import Pool\n",
        "import numpy as np\n",
        "import matplotlib.pyplot as plt\n",
        "from matplotlib import offsetbox\n",
        "from matplotlib.offsetbox import OffsetImage, AnnotationBbox\n",
        "from sklearn import manifold\n",
        "import random\n",
        "import pandas as pd\n",
        "from sklearn.model_selection import train_test_split"
      ]
    },
    {
      "cell_type": "code",
      "source": [
        "def __init__(self, modelName, info):\n",
        "        self.modelName = modelName\n",
        "        self.info = info\n",
        "        self.autoencoder = None\n",
        "        self.encoder = None\n",
        "        self.decoder = None\n",
        "def fit(self, X, n_epochs=50, batch_size=256):\n",
        "        indices_fracs = split(fracs=[0.9, 0.1], N=len(X), seed=0)\n",
        "        X_train, X_valid = X[indices_fracs[0]], X[indices_fracs[1]]\n",
        "        self.autoencoder.fit(X_train, X_train,\n",
        "                             epochs = n_epochs,\n",
        "                             batch_size = batch_size,\n",
        "                             shuffle = True,\n",
        "                             validation_data = (X_valid, X_valid))\n",
        "def predict(self, X):\n",
        "        return self.encoder.predict(X)"
      ],
      "metadata": {
        "id": "VLFQjKuz1Lch"
      },
      "execution_count": null,
      "outputs": []
    },
    {
      "cell_type": "code",
      "source": [
        "def set_arch(self):\n",
        "    pass"
      ],
      "metadata": {
        "id": "C2XUmWuG1Sbd"
      },
      "execution_count": null,
      "outputs": []
    },
    {
      "cell_type": "code",
      "source": [
        "def load_models(self, loss=\"binary_crossentropy\", optimizer=\"adam\"):\n",
        "        print(\"Loading models...\")\n",
        "        self.autoencoder = tf.keras.models.load_model(self.info[\"autoencoderFile\"])\n",
        "        self.encoder = tf.keras.models.load_model(self.info[\"encoderFile\"])\n",
        "        self.decoder = tf.keras.models.load_model(self.info[\"decoderFile\"])\n",
        "        self.autoencoder.compile(optimizer=optimizer, loss=loss)\n",
        "        self.encoder.compile(optimizer=optimizer, loss=loss)\n",
        "        self.decoder.compile(optimizer=optimizer, loss=loss)"
      ],
      "metadata": {
        "id": "PdDuXMyy1Xif"
      },
      "execution_count": null,
      "outputs": []
    },
    {
      "cell_type": "code",
      "source": [
        "def compile(self, loss=\"binary_crossentropy\", optimizer=\"adam\"):\n",
        "        self.autoencoder.compile(optimizer=optimizer, loss=acc)"
      ],
      "metadata": {
        "id": "6-haU3cy1XAU"
      },
      "execution_count": null,
      "outputs": []
    },
    {
      "cell_type": "code",
      "source": [
        "def save_models(self):\n",
        "        print(\"Saving models...\")\n",
        "        self.autoencoder.save(self.info[\"autoencoderFile\"])\n",
        "        self.encoder.save(self.info[\"encoderFile\"])\n",
        "        self.decoder.save(self.info[\"decoderFile\"])"
      ],
      "metadata": {
        "id": "dFJBjc0T1fIt"
      },
      "execution_count": null,
      "outputs": []
    },
    {
      "cell_type": "code",
      "source": [
        "def read_img(filePath):\n",
        "    return skimage.io.imread(filePath, as_gray=False)"
      ],
      "metadata": {
        "id": "3SBBzIT41Xvp"
      },
      "execution_count": null,
      "outputs": []
    },
    {
      "cell_type": "code",
      "source": [
        "def read_imgs_dir(dirPath, extensions):\n",
        "    args = [os.path.join(dirPath, filename)\n",
        "            for filename in os.listdir(dirPath)\n",
        "            if any(filename.lower().endswith(ext) for ext in extensions)]\n",
        "    args_sorted = sorted(args)\n",
        "    imgs = [read_img(arg) for arg in args_sorted]\n",
        "    return imgs"
      ],
      "metadata": {
        "id": "IyPhpPHI1cO9"
      },
      "execution_count": null,
      "outputs": []
    },
    {
      "cell_type": "code",
      "source": [
        "def save_img(filePath, img):\n",
        "    skimage.io.imsave(filePath, img)"
      ],
      "metadata": {
        "id": "pvvEA6BR1d1O"
      },
      "execution_count": null,
      "outputs": []
    },
    {
      "cell_type": "code",
      "source": [
        "def plot_img(img, range=[0, 255]):\n",
        "    plt.imshow(img, vmin=range[0], vmax=range[1])\n",
        "    plt.xlabel(\"xpixels\")\n",
        "    plt.ylabel(\"ypixels\")\n",
        "    plt.tight_layout()\n",
        "    plt.show()\n",
        "    plt.close()"
      ],
      "metadata": {
        "id": "1-kpQvYz1fNP"
      },
      "execution_count": null,
      "outputs": []
    },
    {
      "cell_type": "code",
      "source": [
        "def plot_query_retrieval(img_query, imgs_retrieval, img_ids, outFile, art_info=\"art_info\",):\n",
        "    n_retrieval = len(imgs_retrieval)\n",
        "    fig = plt.figure(figsize=(2*n_retrieval, 4))\n",
        "    fig.suptitle(f\"Similar images\")\n",
        "\n",
        "    # Plot query image\n",
        "    ax = plt.subplot(2, n_retrieval, 0 + 1)\n",
        "    plt.imshow(img_query)\n",
        "    ax.get_xaxis().set_visible(False)\n",
        "    ax.get_yaxis().set_visible(False)\n",
        "    for axis in ['top', 'bottom', 'left', 'right']:\n",
        "        ax.spines[axis].set_linewidth(4)  # increase border thickness\n",
        "        ax.spines[axis].set_color('black')  # set to black\n",
        "    ax.set_title(\"query\",  fontsize=10)  # set subplot title\n",
        "    \n",
        "    count = 0\n",
        "    # Plot retrieval images\n",
        "    for i, img in enumerate(imgs_retrieval):\n",
        "        ax = plt.subplot(2, n_retrieval, n_retrieval + i + 1)\n",
        "        plt.imshow(img)\n",
        "        ax.get_xaxis().set_visible(False)\n",
        "        ax.get_yaxis().set_visible(False)\n",
        "        img_title = f\"{art_info.iloc[img_ids[count]].Artwork}\"\n",
        "        img_artist = f\"{art_info.iloc[img_ids[count]].Artist}\"\n",
        "        for axis in ['top', 'bottom', 'left', 'right']:\n",
        "            ax.spines[axis].set_linewidth(1)  # set border thickness\n",
        "            ax.spines[axis].set_color('black')  # set to black\n",
        "        ax.set_title(f\"{img_title} by {img_artist}\", fontsize=10)  # set subplot title\n",
        "        count+=1\n",
        "    if outFile is None:\n",
        "        plt.show()\n",
        "    else:\n",
        "        plt.savefig(outFile, bbox_inches='tight')\n",
        "    plt.close()"
      ],
      "metadata": {
        "id": "paIBb8VQ1l-4"
      },
      "execution_count": null,
      "outputs": []
    },
    {
      "cell_type": "code",
      "source": [
        "def apply_transformer(imgs, transformer, parallel=True):\n",
        "    if parallel:\n",
        "        pool = Pool()\n",
        "        imgs_transform = pool.map(transformer, [img for img in imgs])\n",
        "        pool.close()\n",
        "        pool.join()\n",
        "    else:\n",
        "        imgs_transform = [transformer(img) for img in imgs]\n",
        "    return imgs_transform"
      ],
      "metadata": {
        "id": "aNMLHBO91pLs"
      },
      "execution_count": null,
      "outputs": []
    },
    {
      "cell_type": "code",
      "source": [
        "def normalize_img(img):\n",
        "    return img / 255."
      ],
      "metadata": {
        "id": "IJtbk8d41xpb"
      },
      "execution_count": null,
      "outputs": []
    },
    {
      "cell_type": "code",
      "source": [
        "def resize_img(img, shape_resized):\n",
        "    img_resized = resize(img, shape_resized,\n",
        "                         anti_aliasing=True,\n",
        "                         preserve_range=True)\n",
        "    assert img_resized.shape == shape_resized\n",
        "    return img_resized"
      ],
      "metadata": {
        "id": "eXlZP1Cg1y1T"
      },
      "execution_count": null,
      "outputs": []
    },
    {
      "cell_type": "code",
      "source": [
        "def flatten_img(img):\n",
        "    return img.flatten(\"C\")"
      ],
      "metadata": {
        "id": "p5LPTBoH1z1j"
      },
      "execution_count": null,
      "outputs": []
    },
    {
      "cell_type": "code",
      "source": [
        "def split(fracs, N, seed):\n",
        "    fracs = [round(frac, 2) for frac in fracs]\n",
        "    if sum(fracs) != 1.00:\n",
        "        raise Exception(\"fracs do not sum to one!\")\n",
        "\n",
        "    # Shuffle ordered indices\n",
        "    indices = list(range(N))\n",
        "    random.Random(seed).shuffle(indices)\n",
        "    indices = np.array(indices, dtype=int)\n",
        "\n",
        "    # Get numbers per group\n",
        "    n_fracs = []\n",
        "    for i in range(len(fracs) - 1):\n",
        "        n_fracs.append(int(max(fracs[i] * N, 0)))\n",
        "    n_fracs.append(int(max(N - sum(n_fracs), 0)))\n",
        "\n",
        "    if sum(n_fracs) != N:\n",
        "        raise Exception(\"n_fracs do not sum to N!\")\n",
        "\n",
        "    # Sample indices\n",
        "    n_selected = 0\n",
        "    indices_fracs = []\n",
        "    for n_frac in n_fracs:\n",
        "        indices_frac = indices[n_selected:n_selected + n_frac]\n",
        "        indices_fracs.append(indices_frac)\n",
        "        n_selected += n_frac\n",
        "\n",
        "    # Check no intersections\n",
        "    for a, indices_frac_A in enumerate(indices_fracs):\n",
        "        for b, indices_frac_B in enumerate(indices_fracs):\n",
        "            if a == b:\n",
        "                continue\n",
        "            if is_intersect(indices_frac_A, indices_frac_B):\n",
        "                raise Exception(\"there are intersections!\")\n",
        "\n",
        "    return indices_fracs"
      ],
      "metadata": {
        "id": "dnE0vs4211fv"
      },
      "execution_count": null,
      "outputs": []
    },
    {
      "cell_type": "code",
      "source": [
        "def is_intersect(arr1, arr2):\n",
        "    n_intersect = len(np.intersect1d(arr1, arr2))\n",
        "    if n_intersect == 0: return False\n",
        "    else: return True"
      ],
      "metadata": {
        "id": "wyZYLbHx2A4J"
      },
      "execution_count": null,
      "outputs": []
    },
    {
      "cell_type": "code",
      "source": [
        "outDir = \"/content/drive/MyDrive/lewagon_gandy/vggautoencoder\"\n",
        "if not os.path.exists(outDir):\n",
        "    os.makedirs(outDir)"
      ],
      "metadata": {
        "id": "RlUOqHoQ2ChP"
      },
      "execution_count": null,
      "outputs": []
    },
    {
      "cell_type": "code",
      "source": [
        "parallel = True  # use multicore processing\n",
        "dataDir = \"/content/drive/MyDrive/lewagon_gandy/abstract_ex2\""
      ],
      "metadata": {
        "id": "l9rysZr52odJ"
      },
      "execution_count": null,
      "outputs": []
    },
    {
      "cell_type": "code",
      "source": [
        "extensions = [\".jpg\", \".jpeg\"]\n",
        "all_images = read_imgs_dir(dataDir, extensions)"
      ],
      "metadata": {
        "id": "_U3WYWWX2y2_"
      },
      "execution_count": null,
      "outputs": []
    },
    {
      "cell_type": "code",
      "source": [
        "len(all_images)"
      ],
      "metadata": {
        "colab": {
          "base_uri": "https://localhost:8080/"
        },
        "id": "jAq0aIe0PIhw",
        "outputId": "a6b92b0d-e050-456a-b97d-cafe9b1c1925"
      },
      "execution_count": null,
      "outputs": [
        {
          "output_type": "execute_result",
          "data": {
            "text/plain": [
              "3600"
            ]
          },
          "metadata": {},
          "execution_count": 22
        }
      ]
    },
    {
      "cell_type": "code",
      "source": [
        "shape_img = all_images[1].shape\n",
        "print(f\"Image shape = {shape_img}\")"
      ],
      "metadata": {
        "colab": {
          "base_uri": "https://localhost:8080/"
        },
        "id": "2cSXcmS_3fMT",
        "outputId": "1893c378-cb77-4005-a5c1-89dd0bf516d7"
      },
      "execution_count": null,
      "outputs": [
        {
          "output_type": "stream",
          "name": "stdout",
          "text": [
            "Image shape = (128, 128, 3)\n"
          ]
        }
      ]
    },
    {
      "cell_type": "code",
      "source": [
        "print(\"Loading VGG19 pre-trained model...\")\n",
        "modelName = \"VGG19_autoencoder\"\n",
        "# model = tf.keras.applications.VGG19(weights='imagenet', include_top=False,\n",
        "#                                         input_shape=shape_img)\n",
        "model = tf.keras.models.load_model(\"/content/drive/MyDrive/lewagon_gandy/vgg19_autoencoder.h5\")\n",
        "model.summary()\n",
        "\n",
        "shape_img_resize = tuple([int(x) for x in model.input.shape[1:]])\n",
        "input_shape_model = tuple([int(x) for x in model.input.shape[1:]])\n",
        "output_shape_model = tuple([int(x) for x in model.output.shape[1:]])\n",
        "n_epochs = None\n",
        "model.compile()"
      ],
      "metadata": {
        "id": "IddN_Pcf28Nf",
        "colab": {
          "base_uri": "https://localhost:8080/"
        },
        "outputId": "f757ccb1-3bb4-48a4-9d6e-d3c3f4193805"
      },
      "execution_count": null,
      "outputs": [
        {
          "output_type": "stream",
          "name": "stdout",
          "text": [
            "Loading VGG19 pre-trained model...\n",
            "WARNING:tensorflow:No training configuration found in the save file, so the model was *not* compiled. Compile it manually.\n",
            "Model: \"vgg19\"\n",
            "_________________________________________________________________\n",
            " Layer (type)                Output Shape              Param #   \n",
            "=================================================================\n",
            " input_4 (InputLayer)        [(None, 128, 128, 3)]     0         \n",
            "                                                                 \n",
            " block1_conv1 (Conv2D)       (None, 128, 128, 64)      1792      \n",
            "                                                                 \n",
            " block1_conv2 (Conv2D)       (None, 128, 128, 64)      36928     \n",
            "                                                                 \n",
            " block1_pool (MaxPooling2D)  (None, 64, 64, 64)        0         \n",
            "                                                                 \n",
            " block2_conv1 (Conv2D)       (None, 64, 64, 128)       73856     \n",
            "                                                                 \n",
            " block2_conv2 (Conv2D)       (None, 64, 64, 128)       147584    \n",
            "                                                                 \n",
            " block2_pool (MaxPooling2D)  (None, 32, 32, 128)       0         \n",
            "                                                                 \n",
            " block3_conv1 (Conv2D)       (None, 32, 32, 256)       295168    \n",
            "                                                                 \n",
            " block3_conv2 (Conv2D)       (None, 32, 32, 256)       590080    \n",
            "                                                                 \n",
            " block3_conv3 (Conv2D)       (None, 32, 32, 256)       590080    \n",
            "                                                                 \n",
            " block3_conv4 (Conv2D)       (None, 32, 32, 256)       590080    \n",
            "                                                                 \n",
            " block3_pool (MaxPooling2D)  (None, 16, 16, 256)       0         \n",
            "                                                                 \n",
            " block4_conv1 (Conv2D)       (None, 16, 16, 512)       1180160   \n",
            "                                                                 \n",
            " block4_conv2 (Conv2D)       (None, 16, 16, 512)       2359808   \n",
            "                                                                 \n",
            " block4_conv3 (Conv2D)       (None, 16, 16, 512)       2359808   \n",
            "                                                                 \n",
            " block4_conv4 (Conv2D)       (None, 16, 16, 512)       2359808   \n",
            "                                                                 \n",
            " block4_pool (MaxPooling2D)  (None, 8, 8, 512)         0         \n",
            "                                                                 \n",
            " block5_conv1 (Conv2D)       (None, 8, 8, 512)         2359808   \n",
            "                                                                 \n",
            " block5_conv2 (Conv2D)       (None, 8, 8, 512)         2359808   \n",
            "                                                                 \n",
            " block5_conv3 (Conv2D)       (None, 8, 8, 512)         2359808   \n",
            "                                                                 \n",
            " block5_conv4 (Conv2D)       (None, 8, 8, 512)         2359808   \n",
            "                                                                 \n",
            " block5_pool (MaxPooling2D)  (None, 4, 4, 512)         0         \n",
            "                                                                 \n",
            "=================================================================\n",
            "Total params: 20,024,384\n",
            "Trainable params: 20,024,384\n",
            "Non-trainable params: 0\n",
            "_________________________________________________________________\n"
          ]
        }
      ]
    },
    {
      "cell_type": "code",
      "source": [
        "print(f\"input_shape_model = {input_shape_model}\")\n",
        "print(f\"output_shape_model = {output_shape_model}\")"
      ],
      "metadata": {
        "colab": {
          "base_uri": "https://localhost:8080/"
        },
        "id": "UgX2jiyb2_tz",
        "outputId": "dc4f7476-58fd-4fd8-8ee0-1b68aa5e755a"
      },
      "execution_count": null,
      "outputs": [
        {
          "output_type": "stream",
          "name": "stdout",
          "text": [
            "input_shape_model = (128, 128, 3)\n",
            "output_shape_model = (4, 4, 512)\n"
          ]
        }
      ]
    },
    {
      "cell_type": "code",
      "source": [
        "class ImageTransformer(object):\n",
        "\n",
        "    def __init__(self, shape_resize):\n",
        "        self.shape_resize = shape_resize\n",
        "\n",
        "    def __call__(self, img):\n",
        "        img_transformed = resize_img(img, self.shape_resize)\n",
        "        img_transformed = normalize_img(img_transformed)\n",
        "        return img_transformed"
      ],
      "metadata": {
        "id": "dF-Okj4b4Ylm"
      },
      "execution_count": null,
      "outputs": []
    },
    {
      "cell_type": "code",
      "source": [
        "transformer = ImageTransformer(shape_img_resize)\n",
        "print(\"Applying image transformer to training images ...\")\n",
        "imgs_train_transformed = apply_transformer(all_images, transformer, \n",
        "                                           parallel=parallel)"
      ],
      "metadata": {
        "colab": {
          "base_uri": "https://localhost:8080/"
        },
        "id": "wLz58j_44aDx",
        "outputId": "aed8ee0f-d3ab-4307-bfaa-f4cb44c2631c"
      },
      "execution_count": null,
      "outputs": [
        {
          "output_type": "stream",
          "name": "stdout",
          "text": [
            "Applying image transformer to training images ...\n"
          ]
        }
      ]
    },
    {
      "cell_type": "code",
      "source": [
        "art_info = pd.read_csv(\"/content/drive/MyDrive/lewagon_gandy/wikiart_scraped.csv\")\n",
        "art_info = art_info[art_info['Style']==\"Abstract-Expressionism\"]\n",
        "art_info.head()"
      ],
      "metadata": {
        "colab": {
          "base_uri": "https://localhost:8080/",
          "height": 206
        },
        "id": "fU9LMjRGM4SK",
        "outputId": "144bce79-8e60-4547-a187-f91b0a94a60d"
      },
      "execution_count": null,
      "outputs": [
        {
          "output_type": "execute_result",
          "data": {
            "text/html": [
              "\n",
              "  <div id=\"df-69595414-f02a-4d66-94b9-0d42a2dcc3fe\">\n",
              "    <div class=\"colab-df-container\">\n",
              "      <div>\n",
              "<style scoped>\n",
              "    .dataframe tbody tr th:only-of-type {\n",
              "        vertical-align: middle;\n",
              "    }\n",
              "\n",
              "    .dataframe tbody tr th {\n",
              "        vertical-align: top;\n",
              "    }\n",
              "\n",
              "    .dataframe thead th {\n",
              "        text-align: right;\n",
              "    }\n",
              "</style>\n",
              "<table border=\"1\" class=\"dataframe\">\n",
              "  <thead>\n",
              "    <tr style=\"text-align: right;\">\n",
              "      <th></th>\n",
              "      <th>Style</th>\n",
              "      <th>Artwork</th>\n",
              "      <th>Artist</th>\n",
              "      <th>Date</th>\n",
              "      <th>Link</th>\n",
              "    </tr>\n",
              "  </thead>\n",
              "  <tbody>\n",
              "    <tr>\n",
              "      <th>77456</th>\n",
              "      <td>Abstract-Expressionism</td>\n",
              "      <td>Heraldic eagle</td>\n",
              "      <td>Victor Hugo</td>\n",
              "      <td>1855</td>\n",
              "      <td>https://uploads0.wikiart.org/images/victor-hug...</td>\n",
              "    </tr>\n",
              "    <tr>\n",
              "      <th>77457</th>\n",
              "      <td>Abstract-Expressionism</td>\n",
              "      <td>Lace impression, spectral form</td>\n",
              "      <td>Victor Hugo</td>\n",
              "      <td>1855</td>\n",
              "      <td>https://uploads7.wikiart.org/images/victor-hug...</td>\n",
              "    </tr>\n",
              "    <tr>\n",
              "      <th>77458</th>\n",
              "      <td>Abstract-Expressionism</td>\n",
              "      <td>Lace and Ghosts</td>\n",
              "      <td>Victor Hugo</td>\n",
              "      <td>1856</td>\n",
              "      <td>https://uploads2.wikiart.org/images/victor-hug...</td>\n",
              "    </tr>\n",
              "    <tr>\n",
              "      <th>77459</th>\n",
              "      <td>Abstract-Expressionism</td>\n",
              "      <td>The cellist</td>\n",
              "      <td>Victor Hugo</td>\n",
              "      <td>1856</td>\n",
              "      <td>https://uploads7.wikiart.org/images/victor-hug...</td>\n",
              "    </tr>\n",
              "    <tr>\n",
              "      <th>77460</th>\n",
              "      <td>Abstract-Expressionism</td>\n",
              "      <td>Taches with fingerprints</td>\n",
              "      <td>Victor Hugo</td>\n",
              "      <td>1865</td>\n",
              "      <td>https://uploads2.wikiart.org/images/victor-hug...</td>\n",
              "    </tr>\n",
              "  </tbody>\n",
              "</table>\n",
              "</div>\n",
              "      <button class=\"colab-df-convert\" onclick=\"convertToInteractive('df-69595414-f02a-4d66-94b9-0d42a2dcc3fe')\"\n",
              "              title=\"Convert this dataframe to an interactive table.\"\n",
              "              style=\"display:none;\">\n",
              "        \n",
              "  <svg xmlns=\"http://www.w3.org/2000/svg\" height=\"24px\"viewBox=\"0 0 24 24\"\n",
              "       width=\"24px\">\n",
              "    <path d=\"M0 0h24v24H0V0z\" fill=\"none\"/>\n",
              "    <path d=\"M18.56 5.44l.94 2.06.94-2.06 2.06-.94-2.06-.94-.94-2.06-.94 2.06-2.06.94zm-11 1L8.5 8.5l.94-2.06 2.06-.94-2.06-.94L8.5 2.5l-.94 2.06-2.06.94zm10 10l.94 2.06.94-2.06 2.06-.94-2.06-.94-.94-2.06-.94 2.06-2.06.94z\"/><path d=\"M17.41 7.96l-1.37-1.37c-.4-.4-.92-.59-1.43-.59-.52 0-1.04.2-1.43.59L10.3 9.45l-7.72 7.72c-.78.78-.78 2.05 0 2.83L4 21.41c.39.39.9.59 1.41.59.51 0 1.02-.2 1.41-.59l7.78-7.78 2.81-2.81c.8-.78.8-2.07 0-2.86zM5.41 20L4 18.59l7.72-7.72 1.47 1.35L5.41 20z\"/>\n",
              "  </svg>\n",
              "      </button>\n",
              "      \n",
              "  <style>\n",
              "    .colab-df-container {\n",
              "      display:flex;\n",
              "      flex-wrap:wrap;\n",
              "      gap: 12px;\n",
              "    }\n",
              "\n",
              "    .colab-df-convert {\n",
              "      background-color: #E8F0FE;\n",
              "      border: none;\n",
              "      border-radius: 50%;\n",
              "      cursor: pointer;\n",
              "      display: none;\n",
              "      fill: #1967D2;\n",
              "      height: 32px;\n",
              "      padding: 0 0 0 0;\n",
              "      width: 32px;\n",
              "    }\n",
              "\n",
              "    .colab-df-convert:hover {\n",
              "      background-color: #E2EBFA;\n",
              "      box-shadow: 0px 1px 2px rgba(60, 64, 67, 0.3), 0px 1px 3px 1px rgba(60, 64, 67, 0.15);\n",
              "      fill: #174EA6;\n",
              "    }\n",
              "\n",
              "    [theme=dark] .colab-df-convert {\n",
              "      background-color: #3B4455;\n",
              "      fill: #D2E3FC;\n",
              "    }\n",
              "\n",
              "    [theme=dark] .colab-df-convert:hover {\n",
              "      background-color: #434B5C;\n",
              "      box-shadow: 0px 1px 3px 1px rgba(0, 0, 0, 0.15);\n",
              "      filter: drop-shadow(0px 1px 2px rgba(0, 0, 0, 0.3));\n",
              "      fill: #FFFFFF;\n",
              "    }\n",
              "  </style>\n",
              "\n",
              "      <script>\n",
              "        const buttonEl =\n",
              "          document.querySelector('#df-69595414-f02a-4d66-94b9-0d42a2dcc3fe button.colab-df-convert');\n",
              "        buttonEl.style.display =\n",
              "          google.colab.kernel.accessAllowed ? 'block' : 'none';\n",
              "\n",
              "        async function convertToInteractive(key) {\n",
              "          const element = document.querySelector('#df-69595414-f02a-4d66-94b9-0d42a2dcc3fe');\n",
              "          const dataTable =\n",
              "            await google.colab.kernel.invokeFunction('convertToInteractive',\n",
              "                                                     [key], {});\n",
              "          if (!dataTable) return;\n",
              "\n",
              "          const docLinkHtml = 'Like what you see? Visit the ' +\n",
              "            '<a target=\"_blank\" href=https://colab.research.google.com/notebooks/data_table.ipynb>data table notebook</a>'\n",
              "            + ' to learn more about interactive tables.';\n",
              "          element.innerHTML = '';\n",
              "          dataTable['output_type'] = 'display_data';\n",
              "          await google.colab.output.renderOutput(dataTable, element);\n",
              "          const docLink = document.createElement('div');\n",
              "          docLink.innerHTML = docLinkHtml;\n",
              "          element.appendChild(docLink);\n",
              "        }\n",
              "      </script>\n",
              "    </div>\n",
              "  </div>\n",
              "  "
            ],
            "text/plain": [
              "                        Style                         Artwork       Artist  \\\n",
              "77456  Abstract-Expressionism                  Heraldic eagle  Victor Hugo   \n",
              "77457  Abstract-Expressionism  Lace impression, spectral form  Victor Hugo   \n",
              "77458  Abstract-Expressionism                 Lace and Ghosts  Victor Hugo   \n",
              "77459  Abstract-Expressionism                     The cellist  Victor Hugo   \n",
              "77460  Abstract-Expressionism        Taches with fingerprints  Victor Hugo   \n",
              "\n",
              "       Date                                               Link  \n",
              "77456  1855  https://uploads0.wikiart.org/images/victor-hug...  \n",
              "77457  1855  https://uploads7.wikiart.org/images/victor-hug...  \n",
              "77458  1856  https://uploads2.wikiart.org/images/victor-hug...  \n",
              "77459  1856  https://uploads7.wikiart.org/images/victor-hug...  \n",
              "77460  1865  https://uploads2.wikiart.org/images/victor-hug...  "
            ]
          },
          "metadata": {},
          "execution_count": 28
        }
      ]
    },
    {
      "cell_type": "code",
      "source": [
        "X_train = np.array(imgs_train_transformed).reshape((-1,) + input_shape_model)"
      ],
      "metadata": {
        "id": "Nt6ps-jO6LTd"
      },
      "execution_count": null,
      "outputs": []
    },
    {
      "cell_type": "code",
      "source": [
        "E_train = model.predict(X_train)\n",
        "E_train_flatten = E_train.reshape((-1, np.prod(output_shape_model)))"
      ],
      "metadata": {
        "id": "7YIgo9Dv6ckQ"
      },
      "execution_count": null,
      "outputs": []
    },
    {
      "cell_type": "code",
      "source": [
        "# model.save('/content/drive/MyDrive/lewagon_gandy/vgg19_autoencoder.h5')"
      ],
      "metadata": {
        "id": "k8eV_kRB6Pmm"
      },
      "execution_count": null,
      "outputs": []
    },
    {
      "cell_type": "code",
      "source": [
        ""
      ],
      "metadata": {
        "id": "T-BWn3z-73xn"
      },
      "execution_count": null,
      "outputs": []
    },
    {
      "cell_type": "code",
      "source": [
        ""
      ],
      "metadata": {
        "id": "Cf5dchxg8EpJ"
      },
      "execution_count": null,
      "outputs": []
    },
    {
      "cell_type": "code",
      "source": [
        ""
      ],
      "metadata": {
        "id": "PkKFAp6A3xhE"
      },
      "execution_count": null,
      "outputs": []
    },
    {
      "cell_type": "code",
      "source": [
        "# Taking test images from other directory to map onto dataset\n",
        "imgs_test = read_imgs_dir(\"/content/drive/MyDrive/lewagon_gandy/test_images\", extensions)\n",
        "imgs_test_transformed = apply_transformer(imgs_test, transformer, \n",
        "                                          parallel=parallel)\n",
        "X_test = np.array(imgs_test_transformed).reshape((-1,) + input_shape_model)"
      ],
      "metadata": {
        "id": "TDIK51Fn8CdE"
      },
      "execution_count": null,
      "outputs": []
    },
    {
      "cell_type": "code",
      "source": [
        "E_test = model.predict(X_test)\n",
        "E_test_flatten = E_test.reshape((-1, np.prod(output_shape_model)))"
      ],
      "metadata": {
        "id": "PtxO1hQ--nK2"
      },
      "execution_count": null,
      "outputs": []
    },
    {
      "cell_type": "code",
      "source": [
        "# print(\"Fitting k-nearest-neighbour model on training images 1...\")\n",
        "# knn = NearestNeighbors(n_neighbors=4, metric=\"cosine\")\n",
        "# knn.fit(E_train_flatten)\n"
      ],
      "metadata": {
        "id": "1y-xy-t3-Agu"
      },
      "execution_count": null,
      "outputs": []
    },
    {
      "cell_type": "code",
      "source": [
        "import joblib\n",
        "knn = joblib.load(\"/content/drive/MyDrive/lewagon_gandy/knnmodel.joblib\")\n",
        "\n",
        "knn.fit(E_train_flatten)"
      ],
      "metadata": {
        "colab": {
          "base_uri": "https://localhost:8080/"
        },
        "id": "Ig7rnF6WPUQc",
        "outputId": "66cb45d5-5009-4a17-fe31-7fadc3fa1b1a"
      },
      "execution_count": null,
      "outputs": [
        {
          "output_type": "execute_result",
          "data": {
            "text/plain": [
              "NearestNeighbors(metric='cosine', n_neighbors=4)"
            ]
          },
          "metadata": {},
          "execution_count": 36
        }
      ]
    },
    {
      "cell_type": "code",
      "source": [
        "# import joblib\n",
        "# from joblib import dump, load\n",
        "\n",
        "# dump(knn, 'knnmodel.joblib') "
      ],
      "metadata": {
        "id": "-7SMB76nOi3h"
      },
      "execution_count": null,
      "outputs": []
    },
    {
      "cell_type": "code",
      "source": [
        "for i, emb_flatten in enumerate(E_test_flatten):\n",
        "    _, indices = knn.kneighbors([emb_flatten]) # find k nearest train neighbours\n",
        "    img_query = imgs_test[i] # query image\n",
        "    imgs_retrieval = [all_images[idx] for idx in indices.flatten()] # retrieval images\n",
        "    img_ids = [idx for idx in indices.flatten()]\n",
        "    outFile = os.path.join(outDir, \"{}_retrieval2_{}.png\".format(modelName, i))\n",
        "    plot_query_retrieval(img_query, imgs_retrieval, img_ids, outFile, art_info = art_info)"
      ],
      "metadata": {
        "id": "5kPMcsmu-7Ib"
      },
      "execution_count": null,
      "outputs": []
    },
    {
      "cell_type": "code",
      "source": [
        "import pandas as pd\n",
        "art_info = pd.read_csv(\"/content/drive/MyDrive/lewagon_gandy/wikiart_scraped.csv\")\n",
        "art_info = art_info[art_info['Style']==\"Abstract-Expressionism\"]\n",
        "art_info.tail()"
      ],
      "metadata": {
        "id": "k3B-N1bQAaJh",
        "colab": {
          "base_uri": "https://localhost:8080/",
          "height": 206
        },
        "outputId": "4b957bc4-4d4d-4c71-dbf2-47f11cb5c815"
      },
      "execution_count": null,
      "outputs": [
        {
          "output_type": "execute_result",
          "data": {
            "text/html": [
              "\n",
              "  <div id=\"df-8833c20b-8592-49a2-85c3-1e61fc08849e\">\n",
              "    <div class=\"colab-df-container\">\n",
              "      <div>\n",
              "<style scoped>\n",
              "    .dataframe tbody tr th:only-of-type {\n",
              "        vertical-align: middle;\n",
              "    }\n",
              "\n",
              "    .dataframe tbody tr th {\n",
              "        vertical-align: top;\n",
              "    }\n",
              "\n",
              "    .dataframe thead th {\n",
              "        text-align: right;\n",
              "    }\n",
              "</style>\n",
              "<table border=\"1\" class=\"dataframe\">\n",
              "  <thead>\n",
              "    <tr style=\"text-align: right;\">\n",
              "      <th></th>\n",
              "      <th>Style</th>\n",
              "      <th>Artwork</th>\n",
              "      <th>Artist</th>\n",
              "      <th>Date</th>\n",
              "      <th>Link</th>\n",
              "    </tr>\n",
              "  </thead>\n",
              "  <tbody>\n",
              "    <tr>\n",
              "      <th>81051</th>\n",
              "      <td>Abstract-Expressionism</td>\n",
              "      <td>Vine</td>\n",
              "      <td>Brice Marden</td>\n",
              "      <td>1993</td>\n",
              "      <td>https://uploads1.wikiart.org/images/brice-mard...</td>\n",
              "    </tr>\n",
              "    <tr>\n",
              "      <th>81052</th>\n",
              "      <td>Abstract-Expressionism</td>\n",
              "      <td>Dialogue 10</td>\n",
              "      <td>Vasile Dobrian</td>\n",
              "      <td>1993</td>\n",
              "      <td>https://uploads1.wikiart.org/images/vasile-dob...</td>\n",
              "    </tr>\n",
              "    <tr>\n",
              "      <th>81053</th>\n",
              "      <td>Abstract-Expressionism</td>\n",
              "      <td>Untitled</td>\n",
              "      <td>Mostafa Dashti</td>\n",
              "      <td>1993</td>\n",
              "      <td>https://uploads1.wikiart.org/images/mostafa-da...</td>\n",
              "    </tr>\n",
              "    <tr>\n",
              "      <th>81054</th>\n",
              "      <td>Abstract-Expressionism</td>\n",
              "      <td>The Club</td>\n",
              "      <td>Robert Goodnough</td>\n",
              "      <td>1993</td>\n",
              "      <td>https://uploads0.wikiart.org/images/robert-goo...</td>\n",
              "    </tr>\n",
              "    <tr>\n",
              "      <th>81055</th>\n",
              "      <td>Abstract-Expressionism</td>\n",
              "      <td>Untitled (SFE 090)</td>\n",
              "      <td>Sam Francis</td>\n",
              "      <td>1993</td>\n",
              "      <td>https://uploads3.wikiart.org/images/sam-franci...</td>\n",
              "    </tr>\n",
              "  </tbody>\n",
              "</table>\n",
              "</div>\n",
              "      <button class=\"colab-df-convert\" onclick=\"convertToInteractive('df-8833c20b-8592-49a2-85c3-1e61fc08849e')\"\n",
              "              title=\"Convert this dataframe to an interactive table.\"\n",
              "              style=\"display:none;\">\n",
              "        \n",
              "  <svg xmlns=\"http://www.w3.org/2000/svg\" height=\"24px\"viewBox=\"0 0 24 24\"\n",
              "       width=\"24px\">\n",
              "    <path d=\"M0 0h24v24H0V0z\" fill=\"none\"/>\n",
              "    <path d=\"M18.56 5.44l.94 2.06.94-2.06 2.06-.94-2.06-.94-.94-2.06-.94 2.06-2.06.94zm-11 1L8.5 8.5l.94-2.06 2.06-.94-2.06-.94L8.5 2.5l-.94 2.06-2.06.94zm10 10l.94 2.06.94-2.06 2.06-.94-2.06-.94-.94-2.06-.94 2.06-2.06.94z\"/><path d=\"M17.41 7.96l-1.37-1.37c-.4-.4-.92-.59-1.43-.59-.52 0-1.04.2-1.43.59L10.3 9.45l-7.72 7.72c-.78.78-.78 2.05 0 2.83L4 21.41c.39.39.9.59 1.41.59.51 0 1.02-.2 1.41-.59l7.78-7.78 2.81-2.81c.8-.78.8-2.07 0-2.86zM5.41 20L4 18.59l7.72-7.72 1.47 1.35L5.41 20z\"/>\n",
              "  </svg>\n",
              "      </button>\n",
              "      \n",
              "  <style>\n",
              "    .colab-df-container {\n",
              "      display:flex;\n",
              "      flex-wrap:wrap;\n",
              "      gap: 12px;\n",
              "    }\n",
              "\n",
              "    .colab-df-convert {\n",
              "      background-color: #E8F0FE;\n",
              "      border: none;\n",
              "      border-radius: 50%;\n",
              "      cursor: pointer;\n",
              "      display: none;\n",
              "      fill: #1967D2;\n",
              "      height: 32px;\n",
              "      padding: 0 0 0 0;\n",
              "      width: 32px;\n",
              "    }\n",
              "\n",
              "    .colab-df-convert:hover {\n",
              "      background-color: #E2EBFA;\n",
              "      box-shadow: 0px 1px 2px rgba(60, 64, 67, 0.3), 0px 1px 3px 1px rgba(60, 64, 67, 0.15);\n",
              "      fill: #174EA6;\n",
              "    }\n",
              "\n",
              "    [theme=dark] .colab-df-convert {\n",
              "      background-color: #3B4455;\n",
              "      fill: #D2E3FC;\n",
              "    }\n",
              "\n",
              "    [theme=dark] .colab-df-convert:hover {\n",
              "      background-color: #434B5C;\n",
              "      box-shadow: 0px 1px 3px 1px rgba(0, 0, 0, 0.15);\n",
              "      filter: drop-shadow(0px 1px 2px rgba(0, 0, 0, 0.3));\n",
              "      fill: #FFFFFF;\n",
              "    }\n",
              "  </style>\n",
              "\n",
              "      <script>\n",
              "        const buttonEl =\n",
              "          document.querySelector('#df-8833c20b-8592-49a2-85c3-1e61fc08849e button.colab-df-convert');\n",
              "        buttonEl.style.display =\n",
              "          google.colab.kernel.accessAllowed ? 'block' : 'none';\n",
              "\n",
              "        async function convertToInteractive(key) {\n",
              "          const element = document.querySelector('#df-8833c20b-8592-49a2-85c3-1e61fc08849e');\n",
              "          const dataTable =\n",
              "            await google.colab.kernel.invokeFunction('convertToInteractive',\n",
              "                                                     [key], {});\n",
              "          if (!dataTable) return;\n",
              "\n",
              "          const docLinkHtml = 'Like what you see? Visit the ' +\n",
              "            '<a target=\"_blank\" href=https://colab.research.google.com/notebooks/data_table.ipynb>data table notebook</a>'\n",
              "            + ' to learn more about interactive tables.';\n",
              "          element.innerHTML = '';\n",
              "          dataTable['output_type'] = 'display_data';\n",
              "          await google.colab.output.renderOutput(dataTable, element);\n",
              "          const docLink = document.createElement('div');\n",
              "          docLink.innerHTML = docLinkHtml;\n",
              "          element.appendChild(docLink);\n",
              "        }\n",
              "      </script>\n",
              "    </div>\n",
              "  </div>\n",
              "  "
            ],
            "text/plain": [
              "                        Style             Artwork            Artist  Date  \\\n",
              "81051  Abstract-Expressionism                Vine      Brice Marden  1993   \n",
              "81052  Abstract-Expressionism         Dialogue 10    Vasile Dobrian  1993   \n",
              "81053  Abstract-Expressionism            Untitled    Mostafa Dashti  1993   \n",
              "81054  Abstract-Expressionism            The Club  Robert Goodnough  1993   \n",
              "81055  Abstract-Expressionism  Untitled (SFE 090)       Sam Francis  1993   \n",
              "\n",
              "                                                    Link  \n",
              "81051  https://uploads1.wikiart.org/images/brice-mard...  \n",
              "81052  https://uploads1.wikiart.org/images/vasile-dob...  \n",
              "81053  https://uploads1.wikiart.org/images/mostafa-da...  \n",
              "81054  https://uploads0.wikiart.org/images/robert-goo...  \n",
              "81055  https://uploads3.wikiart.org/images/sam-franci...  "
            ]
          },
          "metadata": {},
          "execution_count": 39
        }
      ]
    },
    {
      "cell_type": "code",
      "source": [
        ""
      ],
      "metadata": {
        "id": "vIgmw2rYCZ33"
      },
      "execution_count": null,
      "outputs": []
    },
    {
      "cell_type": "code",
      "source": [
        ""
      ],
      "metadata": {
        "id": "wG01_Y1979eP"
      },
      "execution_count": null,
      "outputs": []
    },
    {
      "cell_type": "code",
      "source": [
        ""
      ],
      "metadata": {
        "id": "znhIe_dXZehl"
      },
      "execution_count": null,
      "outputs": []
    },
    {
      "cell_type": "code",
      "source": [
        ""
      ],
      "metadata": {
        "id": "bAh_Pusq2p01"
      },
      "execution_count": null,
      "outputs": []
    }
  ]
}